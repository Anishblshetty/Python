{
 "cells": [
  {
   "cell_type": "code",
   "execution_count": 3,
   "id": "5982b403-2198-427b-a85d-520480d3a5ed",
   "metadata": {},
   "outputs": [
    {
     "name": "stdout",
     "output_type": "stream",
     "text": [
      "Myself Anish \u0007\n"
     ]
    }
   ],
   "source": [
    "information = 'Myself Anish \\a'\n",
    "print(information)"
   ]
  },
  {
   "cell_type": "code",
   "execution_count": 14,
   "id": "d3a323af-9edf-4e6a-9e3b-184fbca47952",
   "metadata": {},
   "outputs": [
    {
     "data": {
      "text/plain": [
       "18"
      ]
     },
     "execution_count": 14,
     "metadata": {},
     "output_type": "execute_result"
    }
   ],
   "source": [
    "def collatz(number):\n",
    "    if (number%2==0):\n",
    "        return number//2\n",
    "    else:\n",
    "        return 3*(number+1)\n",
    "collatz(5)"
   ]
  },
  {
   "cell_type": "code",
   "execution_count": 4,
   "id": "f6c1f852-679b-4053-98b0-907349c61659",
   "metadata": {},
   "outputs": [
    {
     "name": "stdout",
     "output_type": "stream",
     "text": [
      "My Name is Anish.\n",
      "I am from Chikkamagaluru,Karnataka\n",
      "I love Playing Cricket\n",
      "And my area of interest is not decided.\n"
     ]
    }
   ],
   "source": [
    "# write a program to create a function details that will print the details of the user .Write single line comment to describe function definition and function calling.\n",
    "\n",
    "\"\"\"In this Program, \n",
    "I am telling all about myself,\n",
    "\"\"\"\n",
    "\n",
    "def details(): #function definition\n",
    "    print(\"\"\"My Name is Anish.\n",
    "I am from Chikkamagaluru,Karnataka\n",
    "I love Playing Cricket\n",
    "And my area of interest is not decided.\"\"\")\n",
    "\n",
    "details() #function calling"
   ]
  },
  {
   "cell_type": "code",
   "execution_count": 34,
   "id": "48af5880-0859-483d-a107-bc9cf3f056f3",
   "metadata": {},
   "outputs": [
    {
     "name": "stdout",
     "output_type": "stream",
     "text": [
      "P\n",
      "C++\n",
      "True\n",
      "False\n"
     ]
    }
   ],
   "source": [
    "courses = \"Python.C++.Java.R.\"\n",
    "print(courses[0]) #indexing\n",
    "print(courses[7:10]) #slicing\n",
    "print('R' in courses) #in operator \n",
    "print('C' not in courses) # not in operator"
   ]
  },
  {
   "cell_type": "code",
   "execution_count": 2,
   "id": "515440b7-5fcf-4559-b04e-c8683a32da9d",
   "metadata": {},
   "outputs": [
    {
     "name": "stdin",
     "output_type": "stream",
     "text": [
      "Enter the name :  Anish B L\n",
      "Enter the age :  19\n"
     ]
    },
    {
     "name": "stdout",
     "output_type": "stream",
     "text": [
      "My Name is Anish B L .I am 19 years old\n"
     ]
    }
   ],
   "source": [
    "name = input(\"Enter the name : \")\n",
    "age = input(\"Enter the age : \")\n",
    "print(\"My Name is \"+name+\" .I am \"+age+\" years old\") # by using conactenation (+)"
   ]
  },
  {
   "cell_type": "code",
   "execution_count": 14,
   "id": "3d6f2c1f-4fec-4b31-94fb-7f9ad7583ea7",
   "metadata": {},
   "outputs": [
    {
     "name": "stdin",
     "output_type": "stream",
     "text": [
      "Enter the name :  Anish B L\n",
      "Enter the age :  19\n"
     ]
    },
    {
     "name": "stdout",
     "output_type": "stream",
     "text": [
      "My Name is Anish B L .I am 19 years old\n"
     ]
    }
   ],
   "source": [
    "name = input(\"Enter the name : \")\n",
    "age = input(\"Enter the age : \")\n",
    "print(\"My Name is %s .I am %s years old\"%(name,age)) #string manipulation (%s)"
   ]
  },
  {
   "cell_type": "code",
   "execution_count": 25,
   "id": "a1b66d2f-e615-42a5-8cec-320ceb08e08a",
   "metadata": {},
   "outputs": [
    {
     "name": "stdin",
     "output_type": "stream",
     "text": [
      "Enter the name :  Anish B L\n",
      "Enter the age :  19\n"
     ]
    },
    {
     "name": "stdout",
     "output_type": "stream",
     "text": [
      "My Name is Anish B L .I am 19 years old\n"
     ]
    }
   ],
   "source": [
    "name = input(\"Enter the name : \")\n",
    "age = input(\"Enter the age : \")\n",
    "print(f\"My Name is {name} .I am {age} years old\") #f-strings(we out f in starting)"
   ]
  },
  {
   "cell_type": "code",
   "execution_count": 1,
   "id": "a42b7a27-2267-4fcf-ba6e-8c14e8162905",
   "metadata": {},
   "outputs": [
    {
     "name": "stdin",
     "output_type": "stream",
     "text": [
      "Enter a string :  Virat\n"
     ]
    },
    {
     "name": "stdout",
     "output_type": "stream",
     "text": [
      "The original string is :  Virat\n",
      "The new string is :  VIRAT\n"
     ]
    }
   ],
   "source": [
    "str = input(\"Enter a string : \")\n",
    "stru=str.upper()\n",
    "print(\"The original string is : \",str)\n",
    "print(\"The new string is : \",stru)"
   ]
  },
  {
   "cell_type": "code",
   "execution_count": 2,
   "id": "4661b783-74be-4be8-ad27-acbfc2f72f06",
   "metadata": {},
   "outputs": [
    {
     "name": "stdin",
     "output_type": "stream",
     "text": [
      "Enter a string :  Virat\n"
     ]
    },
    {
     "name": "stdout",
     "output_type": "stream",
     "text": [
      "The original string is :  Virat\n",
      "The new string is :  virat\n"
     ]
    }
   ],
   "source": [
    "str = input(\"Enter a string : \")\n",
    "stru=str.lower()\n",
    "print(\"The original string is : \",str)\n",
    "print(\"The new string is : \",stru)"
   ]
  },
  {
   "cell_type": "code",
   "execution_count": null,
   "id": "26472093-72ec-48a1-aaa4-bc40871b96ad",
   "metadata": {},
   "outputs": [],
   "source": []
  },
  {
   "cell_type": "code",
   "execution_count": 3,
   "id": "2cbf5046-a479-425e-a810-741e3956453a",
   "metadata": {},
   "outputs": [
    {
     "name": "stdin",
     "output_type": "stream",
     "text": [
      "Enter the string :  Python\n"
     ]
    },
    {
     "name": "stdout",
     "output_type": "stream",
     "text": [
      "True\n"
     ]
    }
   ],
   "source": [
    "str = input(\"Enter the string : \")\n",
    "answer = str.isalpha()\n",
    "print (answer)"
   ]
  },
  {
   "cell_type": "code",
   "execution_count": 4,
   "id": "9d3817d3-5f02-458a-b366-61b5c53aad8d",
   "metadata": {},
   "outputs": [
    {
     "name": "stdin",
     "output_type": "stream",
     "text": [
      "Enter the string :  12345\n"
     ]
    },
    {
     "name": "stdout",
     "output_type": "stream",
     "text": [
      "True\n"
     ]
    }
   ],
   "source": [
    "str = input(\"Enter the string : \")\n",
    "answer = str.isalnum()\n",
    "print (answer)"
   ]
  },
  {
   "cell_type": "code",
   "execution_count": 7,
   "id": "9a1a5182-d262-4390-be63-4484c241e50a",
   "metadata": {},
   "outputs": [
    {
     "name": "stdin",
     "output_type": "stream",
     "text": [
      "Enter the string :  1256789\n"
     ]
    },
    {
     "name": "stdout",
     "output_type": "stream",
     "text": [
      "True\n"
     ]
    }
   ],
   "source": [
    "str = input(\"Enter the string : \")\n",
    "answer = str.isdecimal()\n",
    "print (answer)"
   ]
  },
  {
   "cell_type": "code",
   "execution_count": 15,
   "id": "d7d55750-62d3-4e20-8a83-dc80219495c0",
   "metadata": {},
   "outputs": [
    {
     "name": "stdin",
     "output_type": "stream",
     "text": [
      "Enter the age :  sdf\n"
     ]
    },
    {
     "name": "stdout",
     "output_type": "stream",
     "text": [
      "Your age is :  sdf\n"
     ]
    },
    {
     "name": "stdin",
     "output_type": "stream",
     "text": [
      "Enter the age :  sdf\n"
     ]
    },
    {
     "name": "stdout",
     "output_type": "stream",
     "text": [
      "Your age is :  sdf\n"
     ]
    },
    {
     "name": "stdin",
     "output_type": "stream",
     "text": [
      "Enter the age :  sdf\n"
     ]
    },
    {
     "name": "stdout",
     "output_type": "stream",
     "text": [
      "Your age is :  sdf\n"
     ]
    },
    {
     "name": "stdin",
     "output_type": "stream",
     "text": [
      "Enter the age :  sdf\n"
     ]
    },
    {
     "name": "stdout",
     "output_type": "stream",
     "text": [
      "Your age is :  sdf\n"
     ]
    },
    {
     "name": "stdin",
     "output_type": "stream",
     "text": [
      "Enter the age :  sdf\n"
     ]
    },
    {
     "name": "stdout",
     "output_type": "stream",
     "text": [
      "Your age is :  sdf\n"
     ]
    },
    {
     "name": "stdin",
     "output_type": "stream",
     "text": [
      "Enter the age :  13\n"
     ]
    }
   ],
   "source": [
    "while True:\n",
    "    age = input(\"Enter the age : \")\n",
    "    if age.isdecimal():\n",
    "        break\n",
    "    print(\"Your age is : \",age)\n",
    "        "
   ]
  },
  {
   "cell_type": "code",
   "execution_count": 18,
   "id": "8c5722d6-35e5-4504-b8ac-7f2b70af10c6",
   "metadata": {},
   "outputs": [
    {
     "name": "stdin",
     "output_type": "stream",
     "text": [
      "Enter the string :  Namaskara Prajegale\n"
     ]
    },
    {
     "name": "stdout",
     "output_type": "stream",
     "text": [
      "('N', 'a', 'maskara Prajegale')\n"
     ]
    }
   ],
   "source": [
    "str = input(\"Enter the string : \")\n",
    "answer = str.partition(\"a\") # a is seperator\n",
    "print (answer)"
   ]
  },
  {
   "cell_type": "code",
   "execution_count": 5,
   "id": "a5c53f3c-2b93-4a3a-bf5c-2eb90f93f17c",
   "metadata": {},
   "outputs": [
    {
     "name": "stdout",
     "output_type": "stream",
     "text": [
      "dict_keys(['Bread', 'Milk', 'Egg', 'Peanuts'])\n"
     ]
    }
   ],
   "source": [
    "picnic_items = {\"Bread\": 5,\"Milk\" :3,\"Egg\":8,\"Peanuts\" :10}\n",
    "print(picnic_items.keys())\n"
   ]
  },
  {
   "cell_type": "code",
   "execution_count": 6,
   "id": "a4fc02e1-2e84-4f5c-b28f-38b0496d37ab",
   "metadata": {},
   "outputs": [
    {
     "name": "stdout",
     "output_type": "stream",
     "text": [
      "Hi,\n",
      "Hello      Python\n",
      "programming\n",
      "    Hi,\n",
      "Hello      Python\n",
      "programming\n",
      "Hi,\n",
      "Hello      Python\n",
      "programming        \n"
     ]
    }
   ],
   "source": [
    "str = \"\"\"    Hi,\n",
    "Hello      Python\n",
    "programming        \"\"\"\n",
    "print(str.strip())\n",
    "print(str.rstrip())\n",
    "print(str.lstrip())\n"
   ]
  },
  {
   "cell_type": "code",
   "execution_count": 13,
   "id": "e52ddb4a-ec27-4f5d-aa1c-0bdf2bfd8840",
   "metadata": {},
   "outputs": [
    {
     "name": "stdout",
     "output_type": "stream",
     "text": [
      "97\n"
     ]
    }
   ],
   "source": [
    "print(ord('a'))\n"
   ]
  },
  {
   "cell_type": "code",
   "execution_count": 1,
   "id": "48d6b538-7a79-48db-aefd-7403b2e7913e",
   "metadata": {},
   "outputs": [
    {
     "name": "stdin",
     "output_type": "stream",
     "text": [
      "Enter the name :  anish\n"
     ]
    },
    {
     "ename": "TypeError",
     "evalue": "startswith first arg must be str or a tuple of str, not int",
     "output_type": "error",
     "traceback": [
      "\u001b[31m---------------------------------------------------------------------------\u001b[39m",
      "\u001b[31mTypeError\u001b[39m                                 Traceback (most recent call last)",
      "\u001b[36mCell\u001b[39m\u001b[36m \u001b[39m\u001b[32mIn[1]\u001b[39m\u001b[32m, line 3\u001b[39m\n\u001b[32m      1\u001b[39m name = \u001b[38;5;28minput\u001b[39m(\u001b[33m\"\u001b[39m\u001b[33mEnter the name : \u001b[39m\u001b[33m\"\u001b[39m)\n\u001b[32m      2\u001b[39m \u001b[38;5;28;01mfor\u001b[39;00m character \u001b[38;5;129;01min\u001b[39;00m name:\n\u001b[32m----> \u001b[39m\u001b[32m3\u001b[39m     \u001b[38;5;28;01mif\u001b[39;00m (\u001b[43mname\u001b[49m\u001b[43m.\u001b[49m\u001b[43mstartswith\u001b[49m\u001b[43m(\u001b[49m\u001b[32;43m0\u001b[39;49m\u001b[43m)\u001b[49m):\n\u001b[32m      4\u001b[39m         \u001b[38;5;28mprint\u001b[39m(remove.name(\u001b[32m0\u001b[39m)) == \u001b[33m\"\u001b[39m\u001b[33m \u001b[39m\u001b[33m\"\u001b[39m \n\u001b[32m      5\u001b[39m     \u001b[38;5;28;01melse\u001b[39;00m:\n",
      "\u001b[31mTypeError\u001b[39m: startswith first arg must be str or a tuple of str, not int"
     ]
    }
   ],
   "source": [
    "name = input(\"Enter the name : \")\n",
    "for character in name:\n",
    "    if (name.startswith(0)):\n",
    "        print(remove.name(0)) == \" \" \n",
    "    else:\n",
    "        print(remove(-1)) == \" \"\n",
    "            "
   ]
  },
  {
   "cell_type": "code",
   "execution_count": 2,
   "id": "4c01e32e-ee2f-4d62-946b-57e7294c34e5",
   "metadata": {},
   "outputs": [
    {
     "name": "stdout",
     "output_type": "stream",
     "text": [
      "Requirement already satisfied: pyperclip in c:\\users\\anish b l\\appdata\\local\\programs\\python\\python313\\lib\\site-packages (1.9.0)\n"
     ]
    },
    {
     "name": "stderr",
     "output_type": "stream",
     "text": [
      "\n",
      "[notice] A new release of pip is available: 24.3.1 -> 25.1.1\n",
      "[notice] To update, run: python.exe -m pip install --upgrade pip\n"
     ]
    }
   ],
   "source": [
    "! pip install pyperclip"
   ]
  },
  {
   "cell_type": "code",
   "execution_count": 10,
   "id": "0334a317-7295-4077-bea6-820838d03fd0",
   "metadata": {},
   "outputs": [
    {
     "name": "stdin",
     "output_type": "stream",
     "text": [
      " recently copied string\n"
     ]
    }
   ],
   "source": [
    "import pyperclip\n",
    "str =input()\n",
    "pyperclip.copy(str)"
   ]
  },
  {
   "cell_type": "code",
   "execution_count": 11,
   "id": "827a33a3-190e-4052-b149-a8942308f078",
   "metadata": {},
   "outputs": [
    {
     "data": {
      "text/plain": [
       "'recently copied string'"
      ]
     },
     "execution_count": 11,
     "metadata": {},
     "output_type": "execute_result"
    }
   ],
   "source": [
    "import pyperclip\n",
    "pyperclip.paste() #it paste the recent copied string in the clipboard"
   ]
  },
  {
   "cell_type": "code",
   "execution_count": 23,
   "id": "9d597537-d7c7-4e23-9867-c2ef152341c6",
   "metadata": {},
   "outputs": [],
   "source": [
    "import pyperclip\n",
    "text = pyperclip.paste()\n",
    "lines = text.split(\"/n\")\n",
    "for i in range(len(lines)):\n",
    "    lines[i] =\"*\" + lines[i]\n",
    "text = \"\\n\".join(lines)\n",
    "pyperclip.copy(text)\n",
    "    "
   ]
  },
  {
   "cell_type": "code",
   "execution_count": 18,
   "id": "99fe72f2-d17c-4787-a50f-ac96fd408eb4",
   "metadata": {},
   "outputs": [
    {
     "name": "stdout",
     "output_type": "stream",
     "text": [
      "Collecting pyinputplus\n",
      "  Downloading PyInputPlus-0.2.12.tar.gz (20 kB)\n",
      "  Installing build dependencies: started\n",
      "  Installing build dependencies: finished with status 'done'\n",
      "  Getting requirements to build wheel: started\n",
      "  Getting requirements to build wheel: finished with status 'done'\n",
      "  Preparing metadata (pyproject.toml): started\n",
      "  Preparing metadata (pyproject.toml): finished with status 'done'\n",
      "Collecting pysimplevalidate>=0.2.7 (from pyinputplus)\n",
      "  Downloading PySimpleValidate-0.2.12.tar.gz (22 kB)\n",
      "  Installing build dependencies: started\n",
      "  Installing build dependencies: finished with status 'done'\n",
      "  Getting requirements to build wheel: started\n",
      "  Getting requirements to build wheel: finished with status 'done'\n",
      "  Preparing metadata (pyproject.toml): started\n",
      "  Preparing metadata (pyproject.toml): finished with status 'done'\n",
      "Collecting stdiomask>=0.0.3 (from pyinputplus)\n",
      "  Downloading stdiomask-0.0.6.tar.gz (3.6 kB)\n",
      "  Installing build dependencies: started\n",
      "  Installing build dependencies: finished with status 'done'\n",
      "  Getting requirements to build wheel: started\n",
      "  Getting requirements to build wheel: finished with status 'done'\n",
      "  Preparing metadata (pyproject.toml): started\n",
      "  Preparing metadata (pyproject.toml): finished with status 'done'\n",
      "Building wheels for collected packages: pyinputplus, pysimplevalidate, stdiomask\n",
      "  Building wheel for pyinputplus (pyproject.toml): started\n",
      "  Building wheel for pyinputplus (pyproject.toml): finished with status 'done'\n",
      "  Created wheel for pyinputplus: filename=pyinputplus-0.2.12-py3-none-any.whl size=11375 sha256=7e769fe4b8b83d95586bd585498dfcae7b7e6720f3af659a80a87bc1acf7767d\n",
      "  Stored in directory: c:\\users\\anish b l\\appdata\\local\\pip\\cache\\wheels\\f7\\b4\\80\\8bb0c986a6bff982c948af5e937c4b6a2b65ad4ef16c5cd671\n",
      "  Building wheel for pysimplevalidate (pyproject.toml): started\n",
      "  Building wheel for pysimplevalidate (pyproject.toml): finished with status 'done'\n",
      "  Created wheel for pysimplevalidate: filename=pysimplevalidate-0.2.12-py3-none-any.whl size=16250 sha256=7c7416433fa8865b86d9059285688f08373de64aff535add6fc6d934c9914fd0\n",
      "  Stored in directory: c:\\users\\anish b l\\appdata\\local\\pip\\cache\\wheels\\af\\60\\74\\a8483e5a1f06657d316ef4004723dfb6e1fda2e716973a9111\n",
      "  Building wheel for stdiomask (pyproject.toml): started\n",
      "  Building wheel for stdiomask (pyproject.toml): finished with status 'done'\n",
      "  Created wheel for stdiomask: filename=stdiomask-0.0.6-py3-none-any.whl size=3376 sha256=298be3ae4c5ad01889123f637d8ec465ce8544818b7c308a296f4e6bc0045eeb\n",
      "  Stored in directory: c:\\users\\anish b l\\appdata\\local\\pip\\cache\\wheels\\a8\\6c\\52\\ac094ca9b3822c62dbbb5053a6495768e985275025138911e3\n",
      "Successfully built pyinputplus pysimplevalidate stdiomask\n",
      "Installing collected packages: stdiomask, pysimplevalidate, pyinputplus\n",
      "Successfully installed pyinputplus-0.2.12 pysimplevalidate-0.2.12 stdiomask-0.0.6\n",
      "Note: you may need to restart the kernel to use updated packages.\n"
     ]
    },
    {
     "name": "stderr",
     "output_type": "stream",
     "text": [
      "\n",
      "[notice] A new release of pip is available: 24.3.1 -> 25.1.1\n",
      "[notice] To update, run: python.exe -m pip install --upgrade pip\n"
     ]
    }
   ],
   "source": [
    "pip install pyinputplus"
   ]
  },
  {
   "cell_type": "code",
   "execution_count": 30,
   "id": "c3dc4aa0-93fa-45bb-9fde-7479c6e688ee",
   "metadata": {},
   "outputs": [
    {
     "name": "stdout",
     "output_type": "stream",
     "text": [
      "Enter the number:"
     ]
    },
    {
     "name": "stdin",
     "output_type": "stream",
     "text": [
      " r\n"
     ]
    },
    {
     "name": "stdout",
     "output_type": "stream",
     "text": [
      "'r' is not a number.\n",
      "Enter the number:"
     ]
    },
    {
     "name": "stdin",
     "output_type": "stream",
     "text": [
      " 18\n"
     ]
    },
    {
     "name": "stdout",
     "output_type": "stream",
     "text": [
      "The response is  18\n"
     ]
    }
   ],
   "source": [
    "import pyinputplus as pyip \n",
    "response = pyip.inputNum(\"Enter the number:\")\n",
    "print(\"The response is \",response)"
   ]
  },
  {
   "cell_type": "code",
   "execution_count": 31,
   "id": "f4546e30-bbd0-4ca1-9507-44ef64e6ee23",
   "metadata": {},
   "outputs": [
    {
     "name": "stdout",
     "output_type": "stream",
     "text": [
      "Enter the number:"
     ]
    },
    {
     "name": "stdin",
     "output_type": "stream",
     "text": [
      " iop\n"
     ]
    },
    {
     "name": "stdout",
     "output_type": "stream",
     "text": [
      "'iop' is not a float.\n",
      "Enter the number:"
     ]
    },
    {
     "name": "stdin",
     "output_type": "stream",
     "text": [
      " 56\n"
     ]
    },
    {
     "name": "stdout",
     "output_type": "stream",
     "text": [
      "The response is  56.0\n"
     ]
    }
   ],
   "source": [
    "import pyinputplus as pyip \n",
    "response = pyip.inputFloat(\"Enter the number:\")\n",
    "print(\"The response is \",response)"
   ]
  },
  {
   "cell_type": "code",
   "execution_count": 33,
   "id": "ebf9b5ec-c75b-41b4-95c4-6b6e98863f3c",
   "metadata": {},
   "outputs": [
    {
     "name": "stdout",
     "output_type": "stream",
     "text": [
      "Enter the number:"
     ]
    },
    {
     "name": "stdin",
     "output_type": "stream",
     "text": [
      "  \n"
     ]
    },
    {
     "name": "stdout",
     "output_type": "stream",
     "text": [
      "Blank values are not allowed.\n",
      "Enter the number:"
     ]
    },
    {
     "name": "stdin",
     "output_type": "stream",
     "text": [
      " yhg\n"
     ]
    },
    {
     "name": "stdout",
     "output_type": "stream",
     "text": [
      "'yhg' is not an integer.\n",
      "Enter the number:"
     ]
    },
    {
     "name": "stdin",
     "output_type": "stream",
     "text": [
      " 18.45\n"
     ]
    },
    {
     "name": "stdout",
     "output_type": "stream",
     "text": [
      "'18.45' is not an integer.\n",
      "Enter the number:"
     ]
    },
    {
     "name": "stdin",
     "output_type": "stream",
     "text": [
      " 18\n"
     ]
    },
    {
     "name": "stdout",
     "output_type": "stream",
     "text": [
      "The response is  18\n"
     ]
    }
   ],
   "source": [
    "import pyinputplus as pyip \n",
    "response = pyip.inputInt(\"Enter the number:\")\n",
    "print(\"The response is \",response)"
   ]
  },
  {
   "cell_type": "code",
   "execution_count": 10,
   "id": "53335146-1642-4e40-9c2d-3403e266e117",
   "metadata": {},
   "outputs": [
    {
     "name": "stdout",
     "output_type": "stream",
     "text": [
      "Enter the password : "
     ]
    },
    {
     "name": "stdin",
     "output_type": "stream",
     "text": [
      " iuyhg\n"
     ]
    },
    {
     "name": "stdout",
     "output_type": "stream",
     "text": [
      "The password must contain numbers\n"
     ]
    }
   ],
   "source": [
    "import pyinputplus as pyip\n",
    "password = pyip.inputStr(\"Enter the password : \")\n",
    "if (\"int\" not in password):\n",
    "    print(\"The password must contain numbers\")\n",
    "\n"
   ]
  },
  {
   "cell_type": "code",
   "execution_count": 5,
   "id": "0e15f96a-5a22-4efd-81af-593e7400ec90",
   "metadata": {},
   "outputs": [
    {
     "data": {
      "text/plain": [
       "'python\\\\program\\\\1st'"
      ]
     },
     "execution_count": 5,
     "metadata": {},
     "output_type": "execute_result"
    }
   ],
   "source": [
    "from pathlib import Path\n",
    "str(Path('python','program','1st'))"
   ]
  },
  {
   "cell_type": "code",
   "execution_count": 4,
   "id": "33559b46-6875-4cfb-9ab2-191feee45588",
   "metadata": {},
   "outputs": [
    {
     "name": "stdout",
     "output_type": "stream",
     "text": [
      "C:Python\\Java\n",
      "C:Python\\Document\n",
      "C:Python\\Program\n"
     ]
    }
   ],
   "source": [
    "from pathlib import Path\n",
    "files=['Java','Document','Program']\n",
    "for i in files:\n",
    "    print(Path('C:','Python',i))\n",
    "         \n",
    "\n",
    "    \n",
    "    "
   ]
  },
  {
   "cell_type": "code",
   "execution_count": 13,
   "id": "aa90659d-5f84-4418-839c-68d1515dfd76",
   "metadata": {},
   "outputs": [
    {
     "name": "stdin",
     "output_type": "stream",
     "text": [
      "Enter the choice:  3\n"
     ]
    },
    {
     "name": "stdout",
     "output_type": "stream",
     "text": [
      "Your guess is too high\n"
     ]
    }
   ],
   "source": [
    "''' Guess the number '''\n",
    "import random\n",
    "choice = ['1','2','3','4','5','6','7','8','9','10'] \n",
    "computer_choice = random.choice(choice) \n",
    "user_choice = input(\"Enter the choice: \") \n",
    "if (user_choice == computer_choice): \n",
    "    print(\"You guessed it correctly!!!\") \n",
    "elif (user_choice>computer_choice): \n",
    "    print(\"Your guess is too high\") \n",
    "else: \n",
    "    print(\"Your guess is too low\")"
   ]
  },
  {
   "cell_type": "code",
   "execution_count": null,
   "id": "241a9dce-3a99-4d7d-9d13-567bd9d6747a",
   "metadata": {},
   "outputs": [],
   "source": []
  }
 ],
 "metadata": {
  "kernelspec": {
   "display_name": "Python 3 (ipykernel)",
   "language": "python",
   "name": "python3"
  },
  "language_info": {
   "codemirror_mode": {
    "name": "ipython",
    "version": 3
   },
   "file_extension": ".py",
   "mimetype": "text/x-python",
   "name": "python",
   "nbconvert_exporter": "python",
   "pygments_lexer": "ipython3",
   "version": "3.13.2"
  }
 },
 "nbformat": 4,
 "nbformat_minor": 5
}
