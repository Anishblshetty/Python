{
 "cells": [
  {
   "cell_type": "code",
   "execution_count": 29,
   "id": "5422bca3-db43-4d0b-b121-70007aef7387",
   "metadata": {},
   "outputs": [
    {
     "name": "stdin",
     "output_type": "stream",
     "text": [
      "Enter the choice:  5\n"
     ]
    },
    {
     "name": "stdout",
     "output_type": "stream",
     "text": [
      "You guessed it correctly!!!\n",
      "The computer choice is 5\n"
     ]
    }
   ],
   "source": [
    "'''Anish B L'''\n",
    "'''AIML 'M' '''\n",
    "'''1AY24AI010'''\n",
    "                                                        # 1. Guess the number \n",
    "import random\n",
    "choice = ['1','2','3','4','5','6','7','8','9','10'] \n",
    "computer_choice = random.choice(choice) \n",
    "user_choice = input(\"Enter the choice: \") \n",
    "if (user_choice == computer_choice): \n",
    "    print(\"You guessed it correctly!!!\")\n",
    "    print(\"The computer choice is\",computer_choice)\n",
    "elif (user_choice>computer_choice): \n",
    "    print(\"Your guess is too high\") \n",
    "else: \n",
    "    print(\"Your guess is too low\")"
   ]
  },
  {
   "cell_type": "code",
   "execution_count": null,
   "id": "8e45a5f3-1adb-418c-9e98-d7e2a057ff00",
   "metadata": {},
   "outputs": [],
   "source": []
  },
  {
   "cell_type": "code",
   "execution_count": 33,
   "id": "1f9f6419-0d19-4d36-9866-af7b820564f3",
   "metadata": {},
   "outputs": [
    {
     "name": "stdin",
     "output_type": "stream",
     "text": [
      "Enter rock, paper, or scissors:  rock\n"
     ]
    },
    {
     "name": "stdout",
     "output_type": "stream",
     "text": [
      "\n",
      "You choice is : rock\n",
      "Computer choice is : scissors\n",
      "\n",
      "You win!\n"
     ]
    }
   ],
   "source": [
    "'''Anish B L'''\n",
    "'''AIML 'M' '''\n",
    "'''1AY24AI010'''\n",
    "                                                         # 2. Rock Paper Scissors\n",
    "import random\n",
    "\n",
    "choices = ['rock', 'paper', 'scissors']\n",
    "user_choice = input(\"Enter rock, paper, or scissors: \")\n",
    "computer_choice = random.choice(choices)\n",
    "\n",
    "print(\"\\nYou choice is : \" + user_choice)\n",
    "print(\"Computer choice is : \" + computer_choice + \"\\n\")\n",
    "\n",
    "if user_choice == computer_choice:\n",
    "    print(\"It's a tie!\")\n",
    "elif (user_choice == 'rock' and computer_choice == 'scissors') or \\\n",
    "     (user_choice == 'paper' and computer_choice == 'rock') or \\\n",
    "     (user_choice == 'scissors' and computer_choice == 'paper'):\n",
    "    print(\"You win!\")\n",
    "else:\n",
    "    print(\"You lose!\")\n"
   ]
  },
  {
   "cell_type": "code",
   "execution_count": null,
   "id": "cc8bd8cc-59c7-43e0-b87a-7fd6d571d68b",
   "metadata": {},
   "outputs": [],
   "source": []
  },
  {
   "cell_type": "code",
   "execution_count": null,
   "id": "2436984b-bf6f-422d-bfc7-1552df423573",
   "metadata": {},
   "outputs": [],
   "source": []
  },
  {
   "cell_type": "code",
   "execution_count": 63,
   "id": "6d429e92-aef6-4dd3-8ff0-33b401ae4aed",
   "metadata": {},
   "outputs": [
    {
     "name": "stdout",
     "output_type": "stream",
     "text": [
      "    ********\n",
      "   ********\n",
      "  ********\n",
      " ********\n",
      "********\n",
      " ********\n",
      "  ********\n",
      "   ********\n",
      "    ********\n"
     ]
    }
   ],
   "source": [
    "'''Anish B L'''\n",
    "'''AIML 'M' '''\n",
    "'''1AY24AI010'''\n",
    "                                                          # 3. ZigZag Pattern\n",
    "rows = 9\n",
    "cols = 8\n",
    "\n",
    "for i in range(rows):\n",
    "    if i < 5:\n",
    "        spaces = 4 - i\n",
    "    else:\n",
    "        spaces = i - 4\n",
    "    stars = cols\n",
    "    print(\" \" * spaces + \"*\" * stars)"
   ]
  },
  {
   "cell_type": "code",
   "execution_count": null,
   "id": "bb11fe66-c0be-47f8-8973-e89cfa901721",
   "metadata": {},
   "outputs": [],
   "source": []
  },
  {
   "cell_type": "code",
   "execution_count": 70,
   "id": "255f3fe9-ada3-474e-b4f7-cbd373d33937",
   "metadata": {},
   "outputs": [
    {
     "name": "stdin",
     "output_type": "stream",
     "text": [
      "Enter a positive integer:  10\n"
     ]
    },
    {
     "name": "stdout",
     "output_type": "stream",
     "text": [
      "Collatz sequence starting from 10 :\n",
      "10 → 5 → 16 → 8 → 4 → 2 → 1\n"
     ]
    }
   ],
   "source": [
    "'''Anish B L'''\n",
    "'''AIML 'M' '''\n",
    "'''1AY24AI010'''\n",
    "                                                        # 4. CollatzSequence\n",
    "def collatz_sequence(n):\n",
    "    if n <= 0:\n",
    "        print(\"Enter a positive integer : \")\n",
    "        return\n",
    "\n",
    "    print(\"Collatz sequence starting from\", n, \":\")\n",
    "    while n != 1:\n",
    "        print(n, end=\" → \")\n",
    "        if n % 2 == 0:\n",
    "            n = n // 2\n",
    "        else:\n",
    "            n = 3 * n + 1\n",
    "    print(1)\n",
    "    \n",
    "number = input(\"Enter a positive integer: \")\n",
    "if number.isdigit():\n",
    "    number = int(number)\n",
    "    collatz_sequence(number)\n",
    "else:\n",
    "    print(\"Invalid input. Please enter a positive integer.\")\n",
    "\n"
   ]
  },
  {
   "cell_type": "code",
   "execution_count": null,
   "id": "89337cba-527d-44df-9dd6-fdedd0bf41cf",
   "metadata": {},
   "outputs": [],
   "source": []
  },
  {
   "cell_type": "code",
   "execution_count": 71,
   "id": "9306ed57-b831-479b-b588-b273023f19b4",
   "metadata": {},
   "outputs": [
    {
     "name": "stdout",
     "output_type": "stream",
     "text": [
      ". . . . . . . . . .\n",
      ". . . . . . . . . .\n",
      ". . . . . . . . . .\n",
      ". . . . . . . . . .\n",
      ". . . █ █ █ . . . .\n",
      ". . . . . . . . . .\n",
      ". . . . . . . . . .\n",
      ". . . . . . . . . .\n",
      ". . . . . . . . . .\n",
      ". . . . . . . . . .\n",
      "\n",
      ". . . . . . . . . .\n",
      ". . . . . . . . . .\n",
      ". . . . . . . . . .\n",
      ". . . . █ . . . . .\n",
      ". . . . █ . . . . .\n",
      ". . . . █ . . . . .\n",
      ". . . . . . . . . .\n",
      ". . . . . . . . . .\n",
      ". . . . . . . . . .\n",
      ". . . . . . . . . .\n",
      "\n",
      ". . . . . . . . . .\n",
      ". . . . . . . . . .\n",
      ". . . . . . . . . .\n",
      ". . . . . . . . . .\n",
      ". . . █ █ █ . . . .\n",
      ". . . . . . . . . .\n",
      ". . . . . . . . . .\n",
      ". . . . . . . . . .\n",
      ". . . . . . . . . .\n",
      ". . . . . . . . . .\n",
      "\n",
      ". . . . . . . . . .\n",
      ". . . . . . . . . .\n",
      ". . . . . . . . . .\n",
      ". . . . █ . . . . .\n",
      ". . . . █ . . . . .\n",
      ". . . . █ . . . . .\n",
      ". . . . . . . . . .\n",
      ". . . . . . . . . .\n",
      ". . . . . . . . . .\n",
      ". . . . . . . . . .\n",
      "\n",
      ". . . . . . . . . .\n",
      ". . . . . . . . . .\n",
      ". . . . . . . . . .\n",
      ". . . . . . . . . .\n",
      ". . . █ █ █ . . . .\n",
      ". . . . . . . . . .\n",
      ". . . . . . . . . .\n",
      ". . . . . . . . . .\n",
      ". . . . . . . . . .\n",
      ". . . . . . . . . .\n",
      "\n",
      ". . . . . . . . . .\n",
      ". . . . . . . . . .\n",
      ". . . . . . . . . .\n",
      ". . . . █ . . . . .\n",
      ". . . . █ . . . . .\n",
      ". . . . █ . . . . .\n",
      ". . . . . . . . . .\n",
      ". . . . . . . . . .\n",
      ". . . . . . . . . .\n",
      ". . . . . . . . . .\n",
      "\n",
      ". . . . . . . . . .\n",
      ". . . . . . . . . .\n",
      ". . . . . . . . . .\n",
      ". . . . . . . . . .\n",
      ". . . █ █ █ . . . .\n",
      ". . . . . . . . . .\n",
      ". . . . . . . . . .\n",
      ". . . . . . . . . .\n",
      ". . . . . . . . . .\n",
      ". . . . . . . . . .\n",
      "\n",
      ". . . . . . . . . .\n",
      ". . . . . . . . . .\n",
      ". . . . . . . . . .\n",
      ". . . . █ . . . . .\n",
      ". . . . █ . . . . .\n",
      ". . . . █ . . . . .\n",
      ". . . . . . . . . .\n",
      ". . . . . . . . . .\n",
      ". . . . . . . . . .\n",
      ". . . . . . . . . .\n",
      "\n",
      ". . . . . . . . . .\n",
      ". . . . . . . . . .\n",
      ". . . . . . . . . .\n",
      ". . . . . . . . . .\n",
      ". . . █ █ █ . . . .\n",
      ". . . . . . . . . .\n",
      ". . . . . . . . . .\n",
      ". . . . . . . . . .\n",
      ". . . . . . . . . .\n",
      ". . . . . . . . . .\n",
      "\n",
      ". . . . . . . . . .\n",
      ". . . . . . . . . .\n",
      ". . . . . . . . . .\n",
      ". . . . █ . . . . .\n",
      ". . . . █ . . . . .\n",
      ". . . . █ . . . . .\n",
      ". . . . . . . . . .\n",
      ". . . . . . . . . .\n",
      ". . . . . . . . . .\n",
      ". . . . . . . . . .\n",
      "\n"
     ]
    }
   ],
   "source": [
    "'''Anish B L'''\n",
    "'''AIML 'M' '''\n",
    "'''1AY24AI010'''\n",
    "                                                        # 5. Conways Game Of Life\n",
    "import time\n",
    "N = 10\n",
    "grid = [[0]*N for _ in range(N)]\n",
    "\n",
    "grid[4][3] = 1\n",
    "grid[4][4] = 1\n",
    "grid[4][5] = 1\n",
    "\n",
    "def print_grid(g):\n",
    "    for row in g:\n",
    "        print(' '.join(['█' if cell else '.' for cell in row]))\n",
    "    print()\n",
    "\n",
    "def live_neighbors(g, x, y):\n",
    "    count = 0\n",
    "    for i in [-1, 0, 1]:\n",
    "        for j in [-1, 0, 1]:\n",
    "            if i == 0 and j == 0:\n",
    "                continue\n",
    "            ni, nj = x + i, y + j\n",
    "            if 0 <= ni < N and 0 <= nj < N:\n",
    "                count += g[ni][nj]\n",
    "    return count\n",
    "\n",
    "def next_gen(g):\n",
    "    new = [[0]*N for _ in range(N)]\n",
    "    for i in range(N):\n",
    "        for j in range(N):\n",
    "            neighbors = live_neighbors(g, i, j)\n",
    "            if g[i][j] == 1 and neighbors in [2, 3]:\n",
    "                new[i][j] = 1\n",
    "            elif g[i][j] == 0 and neighbors == 3:\n",
    "                new[i][j] = 1\n",
    "    return new\n",
    "    \n",
    "for _ in range(10):\n",
    "    print_grid(grid)\n",
    "    grid = next_gen(grid)\n",
    "    time.sleep(0.5)\n"
   ]
  },
  {
   "cell_type": "code",
   "execution_count": 73,
   "id": "929b01dd-b993-4a61-b609-c0909d035a4b",
   "metadata": {},
   "outputs": [
    {
     "name": "stdout",
     "output_type": "stream",
     "text": [
      "Cricket, Kabaddi, Football, and Hockey\n"
     ]
    }
   ],
   "source": [
    "'''Anish B L'''\n",
    "'''AIML 'M' '''\n",
    "'''1AY24AI010'''\n",
    "                                                        # 6.Comma Code\n",
    "def comma_code(items):\n",
    "    if len(items) == 0:\n",
    "        return ''\n",
    "    if len(items) == 1:\n",
    "        return items[0]\n",
    "    \n",
    "    result = ''\n",
    "    for i in range(len(items) - 1):\n",
    "        result += items[i] + ', '\n",
    "    \n",
    "    result += 'and ' + items[-1]\n",
    "    return result\n",
    "\n",
    "my_list = ['Cricket', 'Kabaddi', 'Football', 'Hockey']\n",
    "print(comma_code(my_list))\n"
   ]
  },
  {
   "cell_type": "code",
   "execution_count": null,
   "id": "aca180ea-b406-4b9d-9cdc-18a88eefb8c6",
   "metadata": {},
   "outputs": [],
   "source": []
  },
  {
   "cell_type": "code",
   "execution_count": null,
   "id": "ed24f74f-5215-47de-85c2-3b2320a74d31",
   "metadata": {},
   "outputs": [],
   "source": []
  },
  {
   "cell_type": "code",
   "execution_count": null,
   "id": "525713b2-8bbf-44b5-ae4c-6bed4eac7845",
   "metadata": {},
   "outputs": [],
   "source": []
  }
 ],
 "metadata": {
  "kernelspec": {
   "display_name": "Python 3 (ipykernel)",
   "language": "python",
   "name": "python3"
  },
  "language_info": {
   "codemirror_mode": {
    "name": "ipython",
    "version": 3
   },
   "file_extension": ".py",
   "mimetype": "text/x-python",
   "name": "python",
   "nbconvert_exporter": "python",
   "pygments_lexer": "ipython3",
   "version": "3.13.2"
  }
 },
 "nbformat": 4,
 "nbformat_minor": 5
}
