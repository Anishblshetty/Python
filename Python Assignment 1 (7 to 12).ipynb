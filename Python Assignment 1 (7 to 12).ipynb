{
 "cells": [
  {
   "cell_type": "code",
   "execution_count": 17,
   "id": "0a501c20-376f-458d-8906-0fdd3fee876b",
   "metadata": {},
   "outputs": [
    {
     "name": "stdin",
     "output_type": "stream",
     "text": [
      "Enter the number of flips : \n",
      " 18\n"
     ]
    },
    {
     "name": "stdout",
     "output_type": "stream",
     "text": [
      "Flips: TTHTHTHTHTHHHTTTHH\n",
      "Longest streak: 3\n"
     ]
    }
   ],
   "source": [
    "'''Anish B L'''\n",
    "'''AIML 'M' '''\n",
    "'''1AY24AI010'''\n",
    "                                                        # 7. Coin Flip Streaks\n",
    "import random\n",
    "\n",
    "def longest_streak(n):\n",
    "    flips = [random.choice(['H', 'T']) for _ in range(n)]\n",
    "    print(\"Flips:\", ''.join(flips))\n",
    "    \n",
    "    max_streak = 1\n",
    "    current_streak = 1\n",
    "    \n",
    "    for i in range(1, n):\n",
    "        if flips[i] == flips[i-1]:\n",
    "            current_streak += 1\n",
    "            if current_streak > max_streak:\n",
    "                max_streak = current_streak\n",
    "        else:\n",
    "            current_streak = 1\n",
    "            \n",
    "    return max_streak\n",
    "n = int(input(\"Enter the number of flips : \\n\"))\n",
    "print(\"Longest streak:\", longest_streak(n))\n",
    "\n"
   ]
  },
  {
   "cell_type": "code",
   "execution_count": 10,
   "id": "39d0ee26-1c79-4528-b75c-c797bdf7b805",
   "metadata": {},
   "outputs": [],
   "source": [
    "'''Anish B L'''\n",
    "'''AIML 'M' '''\n",
    "'''1AY24AI010'''\n",
    "                                                        # 8. Character Picture Grid\n",
    "from PIL import Image\n",
    "import os\n",
    "\n",
    "def create_image_grid(rows, cols):\n",
    "    images = []\n",
    "    for filename in sorted(os.listdir())[:rows * cols]:\n",
    "        if filename.endswith(('.png', '.jpg', '.jpeg')):\n",
    "            img = Image.open(filename).resize((100, 100))\n",
    "            images.append(img)\n",
    "\n",
    "    grid = Image.new('RGB', (cols * 100, rows * 100))\n",
    "\n",
    "    for i, img in enumerate(images):\n",
    "        x = (i % cols) * 100\n",
    "        y = (i // cols) * 100\n",
    "        grid.paste(img, (x, y))\n",
    "\n",
    "    grid.show()\n",
    "\n",
    "# Example usage\n",
    "create_image_grid(2, 3)\n",
    "\n",
    "\n"
   ]
  },
  {
   "cell_type": "code",
   "execution_count": null,
   "id": "8f18a380-93bf-473f-b728-c9573186d8cc",
   "metadata": {},
   "outputs": [],
   "source": []
  },
  {
   "cell_type": "code",
   "execution_count": 11,
   "id": "d81fb737-f399-4eca-8ac9-83aba83c0c6c",
   "metadata": {},
   "outputs": [
    {
     "name": "stdout",
     "output_type": "stream",
     "text": [
      "Invalid position: h9\n",
      "Invalid piece at a1: X\n"
     ]
    }
   ],
   "source": [
    "'''Anish B L'''\n",
    "'''AIML 'M' '''\n",
    "'''1AY24AI010'''\n",
    "                                                        # 9. Chess Dictionary Validator\n",
    "def is_valid_chess_position(pos):\n",
    "    return len(pos) == 2 and pos[0] in 'abcdefgh' and pos[1] in '12345678'\n",
    "\n",
    "def is_valid_piece(piece):\n",
    "    return piece in ['K', 'Q', 'R', 'B', 'N', 'P', 'k', 'q', 'r', 'b', 'n', 'p']\n",
    "\n",
    "def validate_chess_dict(chess_dict):\n",
    "    for pos, piece in chess_dict.items():\n",
    "        if not is_valid_chess_position(pos):\n",
    "            print(f\"Invalid position: {pos}\")\n",
    "        if not is_valid_piece(piece):\n",
    "            print(f\"Invalid piece at {pos}: {piece}\")\n",
    "\n",
    "# Example usage\n",
    "chess_board = {\n",
    "    'e4': 'P',\n",
    "    'h9': 'K',  \n",
    "    'a1': 'X'  \n",
    "}\n",
    "\n",
    "validate_chess_dict(chess_board)\n"
   ]
  },
  {
   "cell_type": "code",
   "execution_count": null,
   "id": "0c028fa4-d8d4-49e7-86b9-d2d7bb4a8ed8",
   "metadata": {},
   "outputs": [],
   "source": []
  },
  {
   "cell_type": "code",
   "execution_count": 12,
   "id": "532b9655-71ea-49b4-a973-dc6053ba9dc2",
   "metadata": {},
   "outputs": [
    {
     "name": "stdout",
     "output_type": "stream",
     "text": [
      "\n",
      "Inventory:\n",
      "1 × sword\n",
      "5 × potion\n",
      "42 × gold coin\n",
      "Total items: 48\n",
      "\n",
      "\n",
      "Inventory:\n",
      "1 × sword\n",
      "3 × potion\n",
      "42 × gold coin\n",
      "10 × arrow\n",
      "Total items: 56\n",
      "\n"
     ]
    }
   ],
   "source": [
    "'''Anish B L'''\n",
    "'''AIML 'M' '''\n",
    "'''1AY24AI010'''\n",
    "                                                        # 10. Fantasy Game Inventory\n",
    "inventory = {\n",
    "    \"sword\": 1,\n",
    "    \"potion\": 5,\n",
    "    \"gold coin\": 42\n",
    "}\n",
    "\n",
    "def display_inventory(inv):\n",
    "    print(\"\\nInventory:\")\n",
    "    total_items = 0\n",
    "    for item, count in inv.items():\n",
    "        print(f\"{count} × {item}\")\n",
    "        total_items += count\n",
    "    print(f\"Total items: {total_items}\\n\")\n",
    "\n",
    "def add_item(inv, item_name, quantity=1):\n",
    "    inv[item_name] = inv.get(item_name, 0) + quantity\n",
    "\n",
    "def remove_item(inv, item_name, quantity=1):\n",
    "    if item_name in inv:\n",
    "        inv[item_name] -= quantity\n",
    "        if inv[item_name] <= 0:\n",
    "            del inv[item_name]\n",
    "    else:\n",
    "        print(f\"Item '{item_name}' not found in inventory.\")\n",
    "\n",
    "display_inventory(inventory)\n",
    "add_item(inventory, \"arrow\", 10)\n",
    "remove_item(inventory, \"potion\", 2)\n",
    "display_inventory(inventory)\n"
   ]
  },
  {
   "cell_type": "code",
   "execution_count": null,
   "id": "038c09c9-1245-4ac9-9eb8-f604f84ed0d8",
   "metadata": {},
   "outputs": [],
   "source": []
  },
  {
   "cell_type": "code",
   "execution_count": 13,
   "id": "e4e0e492-673d-4cf1-bfaf-e3fd26c039cb",
   "metadata": {},
   "outputs": [
    {
     "name": "stdout",
     "output_type": "stream",
     "text": [
      "Item   | Qty | Type      \n",
      "-------+-----+-----------\n",
      "Sword  | 1   | Weapon    \n",
      "Potion | 5   | Consumable\n",
      "Shield | 1   | Armor     \n"
     ]
    }
   ],
   "source": [
    "'''Anish B L'''\n",
    "'''AIML 'M' '''\n",
    "'''1AY24AI010'''\n",
    "                                                        # 11. Table Printer\n",
    "def print_table(data):\n",
    "    if not data:\n",
    "        print(\"No data to display.\")\n",
    "        return\n",
    "\n",
    "    headers = data[0].keys()\n",
    "    col_widths = {key: len(key) for key in headers}\n",
    "\n",
    "    for row in data:\n",
    "        for key in headers:\n",
    "            col_widths[key] = max(col_widths[key], len(str(row[key])))\n",
    "\n",
    "    header_row = \" | \".join(f\"{key.ljust(col_widths[key])}\" for key in headers)\n",
    "    separator = \"-+-\".join('-' * col_widths[key] for key in headers)\n",
    "    print(header_row)\n",
    "    print(separator)\n",
    "\n",
    "    for row in data:\n",
    "        print(\" | \".join(str(row[key]).ljust(col_widths[key]) for key in headers))\n",
    "\n",
    "inventory = [\n",
    "    {\"Item\": \"Sword\", \"Qty\": 1, \"Type\": \"Weapon\"},\n",
    "    {\"Item\": \"Potion\", \"Qty\": 5, \"Type\": \"Consumable\"},\n",
    "    {\"Item\": \"Shield\", \"Qty\": 1, \"Type\": \"Armor\"}\n",
    "]\n",
    "\n",
    "print_table(inventory)\n"
   ]
  },
  {
   "cell_type": "code",
   "execution_count": null,
   "id": "5b7f13dd-5f24-4f8c-829c-e3d614597b10",
   "metadata": {},
   "outputs": [],
   "source": []
  },
  {
   "cell_type": "code",
   "execution_count": 14,
   "id": "d9074ec9-6fee-408f-8796-e83b35c0cd68",
   "metadata": {},
   "outputs": [
    {
     "ename": "_IncompleteInputError",
     "evalue": "incomplete input (3533298694.py, line 11)",
     "output_type": "error",
     "traceback": [
      "  \u001b[36mCell\u001b[39m\u001b[36m \u001b[39m\u001b[32mIn[14]\u001b[39m\u001b[32m, line 11\u001b[39m\n\u001b[31m    \u001b[39m\u001b[31m'red': ['brain', 'footsteps', 'footsteps', 'shotgun', 'shotgun',]()\u001b[39m\n                                                                       ^\n\u001b[31m_IncompleteInputError\u001b[39m\u001b[31m:\u001b[39m incomplete input\n"
     ]
    }
   ],
   "source": [
    "'''Anish B L'''\n",
    "'''AIML 'M' '''\n",
    "'''1AY24AI010'''\n",
    "                                                        # 12. Zombie Dice Bots\n",
    "import random\n",
    "\n",
    "\n",
    "DICE = {\n",
    "    'green': ['brain', 'brain', 'brain', 'footsteps', 'footsteps', 'shotgun'],\n",
    "    'yellow': ['brain', 'brain', 'footsteps', 'footsteps', 'shotgun', 'shotgun'],\n",
    "    'red': ['brain', 'footsteps', 'footsteps', 'shotgun', 'shotgun', 'shotgun']\n",
    "}\n",
    "\n",
    "DICE_POOL = ['green'] * 6 + ['yellow'] * 4 + ['red'] * 3\n",
    "\n",
    "def roll_die(color):\n",
    "    return random.choice(DICE[color])\n",
    "\n",
    "def draw_dice(pool, n):\n",
    "    return random.sample(pool, min(n, len(pool)))\n",
    "\n",
    "def zombie_bot_turn():\n",
    "    brains = 0\n",
    "    shotguns = 0\n",
    "    footsteps = []\n",
    "\n",
    "    pool = DICE_POOL.copy()\n",
    "    random.shuffle(pool)\n",
    "\n",
    "    while True:\n",
    "        dice_to_roll = footsteps.copy()\n",
    "        footsteps = []\n",
    "        \n",
    "        dice_to_roll += draw_dice(pool, 3 - len(dice_to_roll))\n",
    "\n",
    "        print(f\"Rolling: {dice_to_roll}\")\n",
    "\n",
    "        for color in dice_to_roll:\n",
    "            result = roll_die(color)\n",
    "            print(f\"{color} die rolled a {result}\")\n",
    "            if result == 'brain':\n",
    "                brains += 1\n",
    "            elif result == 'shotgun':\n",
    "                shotguns += 1\n",
    "            else:\n",
    "                footsteps.append(color)\n",
    "\n",
    "        print(f\"Brains: {brains}, Shotguns: {shotguns}\")\n",
    "\n",
    "        if shotguns >= 3:\n",
    "            print(\"💥 Bot got shotgunned! No brains this turn.\")\n",
    "            return 0\n",
    "\n",
    "        if brains >= 2 and shotguns >= 1:\n",
    "            print(\"🧠 Bot stops and banks brains.\")\n",
    "            return brains\n",
    "            \n",
    "zombie_bot_turn()\n",
    "\n"
   ]
  },
  {
   "cell_type": "code",
   "execution_count": null,
   "id": "dbfe6f7e-3d0d-4bb8-abc3-34e6da8daabf",
   "metadata": {},
   "outputs": [],
   "source": []
  }
 ],
 "metadata": {
  "kernelspec": {
   "display_name": "Python 3 (ipykernel)",
   "language": "python",
   "name": "python3"
  },
  "language_info": {
   "codemirror_mode": {
    "name": "ipython",
    "version": 3
   },
   "file_extension": ".py",
   "mimetype": "text/x-python",
   "name": "python",
   "nbconvert_exporter": "python",
   "pygments_lexer": "ipython3",
   "version": "3.13.2"
  }
 },
 "nbformat": 4,
 "nbformat_minor": 5
}
