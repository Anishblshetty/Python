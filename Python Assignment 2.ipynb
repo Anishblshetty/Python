{
 "cells": [
  {
   "cell_type": "code",
   "execution_count": 29,
   "id": "aad00b6c-b11e-4488-9db6-7894639cd51c",
   "metadata": {},
   "outputs": [
    {
     "name": "stdout",
     "output_type": "stream",
     "text": [
      "Anish B L \n",
      "1AY24AI010 \n",
      "AIML 'M' \n",
      "\n",
      "--- Final Mad Libs Story ---\n",
      "The silly panda walked to the chandelier and then screamed. A nearby pickup truck was unaffected by these events.\n",
      "\n",
      "\n",
      "The completed story has been saved to 'python.txt'.\n"
     ]
    }
   ],
   "source": [
    "\n",
    "                                                                # 1.Mad Libs\n",
    "\n",
    "print(\"Anish B L \\n1AY24AI010 \\nAIML 'M' \")\n",
    "import re\n",
    "def mad_libs(python):\n",
    "    with open(python, 'r') as file:\n",
    "        text = file.read()\n",
    "    placeholders = re.findall(r'\\b(ADJECTIVE|NOUN|VERB|ADVERB)\\b', text)\n",
    "    user_inputs = []\n",
    "\n",
    "    for word in placeholders:\n",
    "        article = 'an' if word[0] in 'AEIOU' else 'a'\n",
    "        user_input = input(f\"Enter {article.lower()} {word.lower()}: \")\n",
    "        user_inputs.append(user_input)\n",
    "        \n",
    "    def replace_match(match):\n",
    "        return user_inputs.pop(0)\n",
    "    result_text = re.sub(r'\\b(ADJECTIVE|NOUN|VERB|ADVERB)\\b', replace_match, text)\n",
    "    print(\"\\n--- Final Mad Libs Story ---\")\n",
    "    print(result_text)\n",
    "    output_filename = 'python.txt'\n",
    "    with open(output_filename, 'w') as output_file:\n",
    "        output_file.write(result_text)\n",
    "\n",
    "    print(f\"\\nThe completed story has been saved to '{output_filename}'.\")\n",
    "mad_libs('python.txt')\n"
   ]
  },
  {
   "cell_type": "code",
   "execution_count": null,
   "id": "81536527-b465-449f-a20a-e941ea7c50d2",
   "metadata": {},
   "outputs": [],
   "source": []
  },
  {
   "cell_type": "code",
   "execution_count": 45,
   "id": "61eaac31-b07d-41d9-ab25-d6b1c86dfb7a",
   "metadata": {},
   "outputs": [
    {
     "name": "stdout",
     "output_type": "stream",
     "text": [
      "Anish B L \n",
      "1AY24AI010 \n",
      "AIML 'M' \n"
     ]
    },
    {
     "name": "stdin",
     "output_type": "stream",
     "text": [
      "Enter folder path:  C:\\Users\\ANISH B L\\OneDrive\\Desktop\\Python\n",
      "Enter the regular expression to search for:  Virat\n"
     ]
    },
    {
     "name": "stdout",
     "output_type": "stream",
     "text": [
      "cricket.txt [Line 1]: Virat Kohli is an Indian international cricketer who plays ODI cricket for the India national team and is a former captain in all formats. He is a right-handed batsman and occasional right-arm medium pace bowler.\n"
     ]
    }
   ],
   "source": [
    "\n",
    "                                                             # 2.Regex Search\n",
    "\n",
    "print(\"Anish B L \\n1AY24AI010 \\nAIML 'M' \")\n",
    "import os\n",
    "import re\n",
    "\n",
    "def regex_search_in_files(folder_path\n",
    "                         ):\n",
    "    pattern = input(\"Enter the regular expression to search for: \")\n",
    "    try:\n",
    "        regex = re.compile(pattern)\n",
    "    except re.error:\n",
    "        print(\"Invalid regular expression.\")\n",
    "        return\n",
    "    for filename in os.listdir(folder_path):\n",
    "        if filename.endswith(\".txt\"):\n",
    "            filepath = os.path.join(folder_path, filename)\n",
    "            with open(filepath, 'r', encoding='utf-8') as file:\n",
    "                lines = file.readlines()\n",
    "                for line_num, line in enumerate(lines, start=1):\n",
    "                    if regex.search(line):\n",
    "                        print(f\"{filename} [Line {line_num}]: {line.strip()}\")\n",
    "folder = input(\"Enter folder path: \").strip()\n",
    "if os.path.isdir(folder):\n",
    "    regex_search_in_files(folder)\n",
    "else:\n",
    "    print(\"Invalid folder path.\")\n"
   ]
  },
  {
   "cell_type": "code",
   "execution_count": null,
   "id": "134764e1-f0d1-4357-95f6-d9d184635a63",
   "metadata": {},
   "outputs": [],
   "source": []
  },
  {
   "cell_type": "code",
   "execution_count": 47,
   "id": "ac73879d-7608-4642-894c-0843c411a2ad",
   "metadata": {},
   "outputs": [
    {
     "name": "stdout",
     "output_type": "stream",
     "text": [
      "Anish B L \n",
      "1AY24AI010 \n",
      "AIML 'M' \n"
     ]
    },
    {
     "name": "stdin",
     "output_type": "stream",
     "text": [
      "Enter source folder path:  C:\\Users\\ANISH B L\\OneDrive\\Pictures\\Pictures\n",
      "Enter destination folder path:  C:\\Users\\ANISH B L\\OneDrive\\Documents\n",
      "Enter file extension to search for (e.g., pdf, jpg):  jpg\n"
     ]
    },
    {
     "name": "stdout",
     "output_type": "stream",
     "text": [
      "Copied: C:\\Users\\ANISH B L\\OneDrive\\Pictures\\Pictures\\HanuMan-8.jpg → C:\\Users\\ANISH B L\\OneDrive\\Documents\\HanuMan-8.jpg\n",
      "Copied: C:\\Users\\ANISH B L\\OneDrive\\Pictures\\Pictures\\IMG20231113193630.jpg → C:\\Users\\ANISH B L\\OneDrive\\Documents\\IMG20231113193630.jpg\n",
      "Copied: C:\\Users\\ANISH B L\\OneDrive\\Pictures\\Pictures\\IMG20231113193659.jpg → C:\\Users\\ANISH B L\\OneDrive\\Documents\\IMG20231113193659.jpg\n",
      "Copied: C:\\Users\\ANISH B L\\OneDrive\\Pictures\\Pictures\\IMG20240501191523.jpg → C:\\Users\\ANISH B L\\OneDrive\\Documents\\IMG20240501191523.jpg\n",
      "Copied: C:\\Users\\ANISH B L\\OneDrive\\Pictures\\Pictures\\IMG_20221106_182626_050.jpg → C:\\Users\\ANISH B L\\OneDrive\\Documents\\IMG_20221106_182626_050.jpg\n",
      "Copied: C:\\Users\\ANISH B L\\OneDrive\\Pictures\\Pictures\\IMG_20230802_182211_267.jpg → C:\\Users\\ANISH B L\\OneDrive\\Documents\\IMG_20230802_182211_267.jpg\n",
      "Copied: C:\\Users\\ANISH B L\\OneDrive\\Pictures\\Pictures\\IMG_20230802_182213_740.jpg → C:\\Users\\ANISH B L\\OneDrive\\Documents\\IMG_20230802_182213_740.jpg\n",
      "Copied: C:\\Users\\ANISH B L\\OneDrive\\Pictures\\Pictures\\IMG_20231023_080217_727.jpg → C:\\Users\\ANISH B L\\OneDrive\\Documents\\IMG_20231023_080217_727.jpg\n",
      "Copied: C:\\Users\\ANISH B L\\OneDrive\\Pictures\\Pictures\\IMG_20231115_180319_193.jpg → C:\\Users\\ANISH B L\\OneDrive\\Documents\\IMG_20231115_180319_193.jpg\n",
      "Copied: C:\\Users\\ANISH B L\\OneDrive\\Pictures\\Pictures\\IMG_20240225_100820_271.jpg → C:\\Users\\ANISH B L\\OneDrive\\Documents\\IMG_20240225_100820_271.jpg\n",
      "Copied: C:\\Users\\ANISH B L\\OneDrive\\Pictures\\Pictures\\IMG_20240225_100825_722.jpg → C:\\Users\\ANISH B L\\OneDrive\\Documents\\IMG_20240225_100825_722.jpg\n",
      "Copied: C:\\Users\\ANISH B L\\OneDrive\\Pictures\\Pictures\\IMG_20240313_141409_310.jpg → C:\\Users\\ANISH B L\\OneDrive\\Documents\\IMG_20240313_141409_310.jpg\n",
      "Copied: C:\\Users\\ANISH B L\\OneDrive\\Pictures\\Pictures\\IMG_20240319_195216_535.jpg → C:\\Users\\ANISH B L\\OneDrive\\Documents\\IMG_20240319_195216_535.jpg\n",
      "Copied: C:\\Users\\ANISH B L\\OneDrive\\Pictures\\Pictures\\IMG_20240511_150050_314.jpg → C:\\Users\\ANISH B L\\OneDrive\\Documents\\IMG_20240511_150050_314.jpg\n",
      "Copied: C:\\Users\\ANISH B L\\OneDrive\\Pictures\\Pictures\\IMG_20240603_222654_027.jpg → C:\\Users\\ANISH B L\\OneDrive\\Documents\\IMG_20240603_222654_027.jpg\n",
      "Copied: C:\\Users\\ANISH B L\\OneDrive\\Pictures\\Pictures\\IMG_20240630_081154_562.jpg → C:\\Users\\ANISH B L\\OneDrive\\Documents\\IMG_20240630_081154_562.jpg\n",
      "Copied: C:\\Users\\ANISH B L\\OneDrive\\Pictures\\Pictures\\IMG_20240630_110008_628.jpg → C:\\Users\\ANISH B L\\OneDrive\\Documents\\IMG_20240630_110008_628.jpg\n",
      "Copied: C:\\Users\\ANISH B L\\OneDrive\\Pictures\\Pictures\\IMG_20240704_145719_260.jpg → C:\\Users\\ANISH B L\\OneDrive\\Documents\\IMG_20240704_145719_260.jpg\n",
      "Copied: C:\\Users\\ANISH B L\\OneDrive\\Pictures\\Pictures\\IMG_20240712_222653_829.jpg → C:\\Users\\ANISH B L\\OneDrive\\Documents\\IMG_20240712_222653_829.jpg\n",
      "Copied: C:\\Users\\ANISH B L\\OneDrive\\Pictures\\Pictures\\IMG_20240724_194109_460.jpg → C:\\Users\\ANISH B L\\OneDrive\\Documents\\IMG_20240724_194109_460.jpg\n",
      "Copied: C:\\Users\\ANISH B L\\OneDrive\\Pictures\\Pictures\\King Trophy.jpg → C:\\Users\\ANISH B L\\OneDrive\\Documents\\King Trophy.jpg\n",
      "Copied: C:\\Users\\ANISH B L\\OneDrive\\Pictures\\Pictures\\Shiva.jpg → C:\\Users\\ANISH B L\\OneDrive\\Documents\\Shiva.jpg\n"
     ]
    }
   ],
   "source": [
    "\n",
    "                                                             # 3. Selective Copy\n",
    "\n",
    "print(\"Anish B L \\n1AY24AI010 \\nAIML 'M' \")\n",
    "import os\n",
    "import shutil\n",
    "\n",
    "def selective_copy(src_folder, dest_folder, extension):\n",
    "    extension = extension.lower().strip(\".\")\n",
    "    if not os.path.exists(dest_folder):\n",
    "        os.makedirs(dest_folder)\n",
    "    for foldername, subfolders, filenames in os.walk(src_folder):\n",
    "        for filename in filenames:\n",
    "            if filename.lower().endswith(\".\" + extension):\n",
    "                src_path = os.path.join(foldername, filename)\n",
    "                dest_path = os.path.join(dest_folder, filename)\n",
    "                if not os.path.exists(dest_path):\n",
    "                    shutil.copy(src_path, dest_path)\n",
    "                    print(f\"Copied: {src_path} → {dest_path}\")\n",
    "                else:\n",
    "                    print(f\"Skipped (already exists): {dest_path}\")\n",
    "\n",
    "src = input(\"Enter source folder path: \").strip()\n",
    "dest = input(\"Enter destination folder path: \").strip()\n",
    "ext = input(\"Enter file extension to search for (e.g., pdf, jpg): \").strip()\n",
    "\n",
    "if os.path.isdir(src):\n",
    "    selective_copy(src, dest, ext)\n",
    "else:\n",
    "    print(\"Invalid source folder.\")\n"
   ]
  },
  {
   "cell_type": "code",
   "execution_count": null,
   "id": "57b9e5f9-730a-458a-ad12-31d741237337",
   "metadata": {},
   "outputs": [],
   "source": []
  },
  {
   "cell_type": "code",
   "execution_count": 49,
   "id": "ad7d80b5-83a5-4d23-91de-4e7d824746cf",
   "metadata": {},
   "outputs": [
    {
     "name": "stdout",
     "output_type": "stream",
     "text": [
      "Anish B L \n",
      "1AY24AI010 \n",
      "AIML 'M' \n"
     ]
    },
    {
     "name": "stdin",
     "output_type": "stream",
     "text": [
      "Enter folder path to scan:  Downloads\n",
      "Enter size limit in MB (default is 100):  1000\n"
     ]
    },
    {
     "name": "stdout",
     "output_type": "stream",
     "text": [
      "\n",
      "Files larger than 1000 MB in 'Downloads':\n",
      "\n",
      "C:\\Users\\ANISH B L\\Downloads\\Arjuna Phalguna (2022) 1080p.UnCut.HDRip.Dual.Vegamovies.NL.mkv - 2333.25 MB\n"
     ]
    }
   ],
   "source": [
    "                                                        # 4. Deleting Unneeded Files\n",
    "\n",
    "print(\"Anish B L \\n1AY24AI010 \\nAIML 'M' \")\n",
    "import os\n",
    "\n",
    "def find_large_files(folder_path, size_limit_mb=100):\n",
    "    size_limit_bytes = size_limit_mb * 1024 * 1024\n",
    "    print(f\"\\nFiles larger than {size_limit_mb} MB in '{folder_path}':\\n\")\n",
    "\n",
    "    for foldername, subfolders, filenames in os.walk(folder_path):\n",
    "        for filename in filenames:\n",
    "            try:\n",
    "                filepath = os.path.join(foldername, filename)\n",
    "                filesize = os.path.getsize(filepath)\n",
    "                if filesize > size_limit_bytes:\n",
    "                    size_in_mb = round(filesize / (1024 * 1024), 2)\n",
    "                    print(f\"{os.path.abspath(filepath)} - {size_in_mb} MB\")\n",
    "            except (FileNotFoundError, PermissionError):\n",
    "                continue\n",
    "folder = input(\"\n",
    "jnEnter folder path to scan: \").strip()\n",
    "size_limit = input(\"Enter size limit in MB (default is 100): \").strip()\n",
    "\n",
    "try:\n",
    "    size_limit = int(size_limit) if size_limit else 100\n",
    "    if os.path.isdir(folder):\n",
    "        find_large_files(folder, size_limit)\n",
    "    else:\n",
    "        print(\"Invalid folder path.\")\n",
    "except ValueError:\n",
    "    print(\"Size limit must be a number.\")\n",
    "\n"
   ]
  },
  {
   "cell_type": "code",
   "execution_count": null,
   "id": "8fd96389-bb9a-4b16-a5da-655fed253f1a",
   "metadata": {},
   "outputs": [],
   "source": []
  },
  {
   "cell_type": "code",
   "execution_count": 64,
   "id": "e2fb8779-4946-4c06-9451-7231463ac5e6",
   "metadata": {},
   "outputs": [
    {
     "name": "stdout",
     "output_type": "stream",
     "text": [
      "Anish B L \n",
      "1AY24AI010 \n",
      "AIML 'M' \n"
     ]
    },
    {
     "name": "stdin",
     "output_type": "stream",
     "text": [
      "Enter folder path:  C:\\Users\\ANISH B L\\OneDrive\\Desktop\\Python\n",
      "Enter file prefix (e.g., spam):  cricket\n",
      "Enter file extension (without dot, e.g., txt):  txt\n"
     ]
    },
    {
     "name": "stdout",
     "output_type": "stream",
     "text": [
      "Renaming cricket003.txt → cricket002.txt\n"
     ]
    },
    {
     "name": "stdin",
     "output_type": "stream",
     "text": [
      "\n",
      "Enter folder path:  C:\\Users\\ANISH B L\\OneDrive\\Desktop\\Python\n",
      "Enter file prefix (e.g., spam):  cricket\n",
      "Enter file extension (without dot, e.g., txt):  txt\n",
      "Enter position number to insert gap (e.g., 2):  1\n"
     ]
    },
    {
     "name": "stdout",
     "output_type": "stream",
     "text": [
      "Renaming cricket002.txt → cricket003.txt\n",
      "Renaming cricket001.txt → cricket002.txt\n"
     ]
    }
   ],
   "source": [
    "                                                        # 5. Filling in the Gaps\n",
    "\n",
    "print(\"Anish B L \\n1AY24AI010 \\nAIML 'M' \")\n",
    "import os\n",
    "import re\n",
    "\n",
    "def fill_gaps(folder, prefix, extension):\n",
    "    files = os.listdir(folder)\n",
    "    pattern = re.compile(rf\"^{re.escape(prefix)}(\\d+)\\.{re.escape(extension)}$\")\n",
    "\n",
    "    matched_files = []\n",
    "    for file in files:\n",
    "        match = pattern.match(file)\n",
    "        if match:\n",
    "            number = int(match.group(1))\n",
    "            matched_files.append((number, file))\n",
    "\n",
    "    matched_files.sort()\n",
    "\n",
    "    expected_number = 1\n",
    "    for actual_number, filename in matched_files:\n",
    "        if actual_number != expected_number:\n",
    "            new_name = f\"{prefix}{str(expected_number).zfill(3)}.{extension}\"\n",
    "            print(f\"Renaming {filename} → {new_name}\")\n",
    "            os.rename(\n",
    "                os.path.join(folder, filename),\n",
    "                os.path.join(folder, new_name)\n",
    "            )\n",
    "        expected_number += 1\n",
    "\n",
    "# Example usage\n",
    "folder = input(\"Enter folder path: \").strip()\n",
    "prefix = input(\"Enter file prefix (e.g., spam): \").strip()\n",
    "extension = input(\"Enter file extension (without dot, e.g., txt): \").strip()\n",
    "\n",
    "if os.path.isdir(folder):\n",
    "    fill_gaps(folder, prefix, extension)\n",
    "else:\n",
    "    print(\"Invalid folder path.\")\n",
    "\n",
    "\n",
    "                                                        # Inserting gaps\n",
    "\n",
    "import os\n",
    "import re\n",
    "\n",
    "def insert_gap(folder, prefix, extension, position):\n",
    "    files = os.listdir(folder)\n",
    "    pattern = re.compile(rf\"^{re.escape(prefix)}(\\d+)\\.{re.escape(extension)}$\")\n",
    "\n",
    "    matched_files = []\n",
    "    for file in files:\n",
    "        match = pattern.match(file)\n",
    "        if match:\n",
    "            number = int(match.group(1))\n",
    "            matched_files.append((number, file))\n",
    "\n",
    "    matched_files.sort(reverse=True)  # Reverse to rename from end to avoid overwriting\n",
    "\n",
    "    for number, filename in matched_files:\n",
    "        if number >= position:\n",
    "            new_number = number + 1\n",
    "            new_name = f\"{prefix}{str(new_number).zfill(3)}.{extension}\"\n",
    "            print(f\"Renaming {filename} → {new_name}\")\n",
    "            os.rename(\n",
    "                os.path.join(folder, filename),\n",
    "                os.path.join(folder, new_name)\n",
    "            )\n",
    "\n",
    "folder = input(\"\\nEnter folder path: \").strip()\n",
    "prefix = input(\"Enter file prefix (e.g., spam): \").strip()\n",
    "extension = input(\"Enter file extension (without dot, e.g., txt): \").strip()\n",
    "position = int(input(\"Enter position number to insert gap (e.g., 2): \").strip())\n",
    "\n",
    "if os.path.isdir(folder):\n",
    "    insert_gap(folder, prefix, extension, position)\n",
    "else:\n",
    "    print(\"Invalid folder path.\")\n",
    "\n",
    "\n"
   ]
  },
  {
   "cell_type": "code",
   "execution_count": null,
   "id": "838850de-1922-4e34-a605-2ab92661a68c",
   "metadata": {},
   "outputs": [],
   "source": []
  },
  {
   "cell_type": "code",
   "execution_count": 67,
   "id": "9625a4e0-c6b2-4f29-907f-0232a548bd7e",
   "metadata": {},
   "outputs": [
    {
     "name": "stdout",
     "output_type": "stream",
     "text": [
      "Anish B L \n",
      "1AY24AI010 \n",
      "AIML 'M' \n",
      "Guess the coin toss! Enter heads or tails:\n"
     ]
    },
    {
     "name": "stdin",
     "output_type": "stream",
     "text": [
      " heads\n"
     ]
    },
    {
     "name": "stdout",
     "output_type": "stream",
     "text": [
      "You got it!\n"
     ]
    }
   ],
   "source": [
    "                                                         # 6. Debugging Coin Toss\n",
    "\n",
    "print(\"Anish B L \\n1AY24AI010 \\nAIML 'M' \")\n",
    "import random\n",
    "\n",
    "guess = ''\n",
    "while guess not in ('heads', 'tails'):\n",
    "    print('Guess the coin toss! Enter heads or tails:')\n",
    "    guess = input().lower()\n",
    "\n",
    "toss = random.randint(0, 1) \n",
    "toss_result = 'heads' if toss == 1 else 'tails'\n",
    "\n",
    "if guess == toss_result:\n",
    "    print('You got it!')\n",
    "else:\n",
    "    print('Nope! Guess again!')\n",
    "    guess = input().lower()\n",
    "    if guess == toss_result:\n",
    "        print('You got it!')\n",
    "    else:\n",
    "        print('Nope. You are really bad at this game.')\n",
    "\n"
   ]
  },
  {
   "cell_type": "code",
   "execution_count": 68,
   "id": "3646996b-388f-4ebc-8821-eb83d6aa0bab",
   "metadata": {
    "scrolled": true
   },
   "outputs": [
    {
     "name": "stdout",
     "output_type": "stream",
     "text": [
      "Anish B L \n",
      "1AY24AI010 \n",
      "AIML 'M' \n",
      "Point in Circle: True\n",
      "Rectangle fully in Circle: True\n",
      "Rectangle overlaps Circle: True\n"
     ]
    }
   ],
   "source": [
    "                                                                 # 7. Project 7\n",
    "\n",
    "print(\"Anish B L \\n1AY24AI010 \\nAIML 'M' \")\n",
    "import math\n",
    "\n",
    "class Point:\n",
    "    def __init__(self, x, y):\n",
    "        self.x = x\n",
    "        self.y = y\n",
    "\n",
    "class Rectangle:\n",
    "    def __init__(self, corner, width, height):\n",
    "        self.corner = corner     \n",
    "        self.width = width\n",
    "        self.height = height\n",
    "\n",
    "class Circle:\n",
    "    def __init__(self, center, radius):\n",
    "        self.center = center  \n",
    "        self.radius = radius\n",
    "\n",
    "def point_in_circle(circle, point):\n",
    "    dx = point.x - circle.center.x\n",
    "    dy = point.y - circle.center.y\n",
    "    distance = math.hypot(dx, dy)\n",
    "    return distance <= circle.radius\n",
    "\n",
    "def rect_in_circle(circle, rect):\n",
    "    corners = [\n",
    "        rect.corner,\n",
    "        Point(rect.corner.x + rect.width, rect.corner.y),\n",
    "        Point(rect.corner.x, rect.corner.y + rect.height),\n",
    "        Point(rect.corner.x + rect.width, rect.corner.y + rect.height)\n",
    "    ]\n",
    "    return all(point_in_circle(circle, corner) for corner in corners)\n",
    "\n",
    "def rect_circle_overlap(circle, rect):\n",
    "    corners = [\n",
    "        rect.corner,\n",
    "        Point(rect.corner.x + rect.width, rect.corner.y),\n",
    "        Point(rect.corner.x, rect.corner.y + rect.height),\n",
    "        Point(rect.corner.x + rect.width, rect.corner.y + rect.height)\n",
    "    ]\n",
    "    if any(point_in_circle(circle, corner) for corner in corners):\n",
    "        return True\n",
    "    if (rect.corner.x <= circle.center.x <= rect.corner.x + rect.width and\n",
    "        rect.corner.y <= circle.center.y <= rect.corner.y + rect.height):\n",
    "        return True\n",
    "    return False\n",
    "\n",
    "circle = Circle(Point(150, 100), 75)\n",
    "rectangle = Rectangle(Point(120, 80), 40, 30)\n",
    "point = Point(160, 110)\n",
    "print(\"Point in Circle:\", point_in_circle(circle, point))\n",
    "print(\"Rectangle fully in Circle:\", rect_in_circle(circle, rectangle))\n",
    "print(\"Rectangle overlaps Circle:\", rect_circle_overlap(circle, rectangle))\n"
   ]
  },
  {
   "cell_type": "code",
   "execution_count": null,
   "id": "d7192626-16b4-4c61-a599-f3546002a448",
   "metadata": {},
   "outputs": [],
   "source": []
  },
  {
   "cell_type": "code",
   "execution_count": 69,
   "id": "ea2bf1b1-1291-4d0d-b154-27b62999d8cc",
   "metadata": {
    "scrolled": true
   },
   "outputs": [
    {
     "name": "stdout",
     "output_type": "stream",
     "text": [
      "Anish B L \n",
      "1AY24AI010 \n",
      "AIML 'M' \n",
      "Time multiplied by 2: 03:00:00\n",
      "Average pace per mile: 00:09:00\n"
     ]
    }
   ],
   "source": [
    "                                                             # 8. Project 8\n",
    "\n",
    "print(\"Anish B L \\n1AY24AI010 \\nAIML 'M' \")\n",
    "class Time:\n",
    "    def __init__(self, hours=0, minutes=0, seconds=0):\n",
    "        self.hours = hours\n",
    "        self.minutes = minutes\n",
    "        self.seconds = seconds\n",
    "    def __str__(self):\n",
    "        return f\"{self.hours:02}:{self.minutes:02}:{self.seconds:02}\"\n",
    "    def to_seconds(self):\n",
    "        return self.hours * 3600 + self.minutes * 60 + self.seconds\n",
    "    def from_seconds(self, total_seconds):\n",
    "        self.hours = total_seconds // 3600\n",
    "        total_seconds %= 3600\n",
    "        self.minutes = total_seconds // 60\n",
    "        self.seconds = total_seconds % 60\n",
    "        return self\n",
    "def mul_time(time, number):\n",
    "    total_seconds = time.to_seconds() * number\n",
    "    result = Time().from_seconds(int(total_seconds))\n",
    "    return result\n",
    "def average_pace(finishing_time, distance):\n",
    "    pace_seconds = finishing_time.to_seconds() / distance\n",
    "    return Time().from_seconds(int(pace_seconds))\n",
    "\n",
    "finish = Time(1, 30, 0)  \n",
    "distance = 10  \n",
    "print(\"Time multiplied by 2:\", mul_time(finish, 2))  \n",
    "print(\"Average pace per mile:\", average_pace(finish, distance)) \n",
    "\n"
   ]
  },
  {
   "cell_type": "code",
   "execution_count": null,
   "id": "6117b3ca-a599-4bd9-891a-9f45d7ebd0bd",
   "metadata": {},
   "outputs": [],
   "source": []
  },
  {
   "cell_type": "code",
   "execution_count": 77,
   "id": "f6debe72-e856-421b-bc22-6f869283abc2",
   "metadata": {
    "scrolled": true
   },
   "outputs": [
    {
     "name": "stdout",
     "output_type": "stream",
     "text": [
      "Anish B L \n",
      "1AY24AI010 \n",
      "AIML 'M' \n",
      "\n",
      "1. Show Today's Date and Day of Week\n",
      "Today's date: 2025-06-21\n",
      "Day of the week: Saturday\n",
      "\n",
      "2. Birthday Info\n"
     ]
    },
    {
     "name": "stdin",
     "output_type": "stream",
     "text": [
      "Enter your birthday (YYYY-MM-DD):  2006-11-16\n"
     ]
    },
    {
     "name": "stdout",
     "output_type": "stream",
     "text": [
      "You are 18 years old.\n",
      "Time until your next birthday: 147 days, 1 hours, 30 minutes, 6 seconds\n",
      "\n",
      "3. Double Day\n",
      "Double Day is: 2010-01-02\n",
      "\n",
      "4. N-times Older Day\n",
      "The day one person is 3 times older is: 2007-07-03\n"
     ]
    }
   ],
   "source": [
    "                                                            # 9. Project 9\n",
    "\n",
    "print(\"Anish B L \\n1AY24AI010 \\nAIML 'M' \")\n",
    "\n",
    "from datetime import datetime, timedelta\n",
    "def show_today():\n",
    "    today = datetime.today()\n",
    "    print(\"Today's date:\", today.date())\n",
    "    print(\"Day of the week:\", today.strftime(\"%A\"))  # e.g., Monday\n",
    "def birthday_info():\n",
    "    bday_str = input(\"Enter your birthday (YYYY-MM-DD): \")\n",
    "    birthday = datetime.strptime(bday_str, \"%Y-%m-%d\")\n",
    "    today = datetime.today()\n",
    "    age = today.year - birthday.year\n",
    "    if (today.month, today.day) < (birthday.month, birthday.day):\n",
    "        age -= 1\n",
    "    print(f\"You are {age} years old.\")\n",
    "    next_birthday = birthday.replace(year=today.year)\n",
    "    if next_birthday < today:\n",
    "        next_birthday = next_birthday.replace(year=today.year + 1)\n",
    "\n",
    "    time_until = next_birthday - today\n",
    "    total_seconds = int(time_until.total_seconds())\n",
    "    days = total_seconds // 86400\n",
    "    hours = (total_seconds % 86400) // 3600\n",
    "    minutes = (total_seconds % 3600) // 60\n",
    "    seconds = total_seconds % 60\n",
    "\n",
    "    print(f\"Time until your next birthday: {days} days, {hours} hours, {minutes} minutes, {seconds} seconds\")\n",
    "\n",
    "def double_day(birth1_str, birth2_str):\n",
    "    b1 = datetime.strptime(birth1_str, \"%Y-%m-%d\")\n",
    "    b2 = datetime.strptime(birth2_str, \"%Y-%m-%d\")\n",
    "    if b1 > b2:\n",
    "        b1, b2 = b2, b1\n",
    "\n",
    "    delta = b2 - b1\n",
    "    double_day = b2 + delta\n",
    "    print(\"Double Day is:\", double_day.date())\n",
    "\n",
    "def n_times_day(birth1_str, birth2_str, n):\n",
    "    b1 = datetime.strptime(birth1_str, \"%Y-%m-%d\")\n",
    "    b2 = datetime.strptime(birth2_str, \"%Y-%m-%d\")\n",
    "    \n",
    "    if b1 > b2:\n",
    "        b1, b2 = b2, b1\n",
    "\n",
    "    delta = b2 - b1\n",
    "    n_day = b2 + delta / (n - 1)\n",
    "    print(f\"The day one person is {n} times older is:\", n_day.date())\n",
    "if __name__ == \"__main__\":\n",
    "    print(\"\\n1. Show Today's Date and Day of Week\")\n",
    "    show_today()\n",
    "\n",
    "    print(\"\\n2. Birthday Info\")\n",
    "    birthday_info()\n",
    "    \n",
    "    print(\"\\n3. Double Day\")\n",
    "    double_day(\"2000-01-01\", \"2005-01-01\")\n",
    "\n",
    "    print(\"\\n4. N-times Older Day\")\n",
    "    n_times_day(\"2000-01-01\", \"2005-01-01\", 3)\n"
   ]
  },
  {
   "cell_type": "code",
   "execution_count": null,
   "id": "02497a9a-d6b0-4632-945b-ed9ce21768b9",
   "metadata": {},
   "outputs": [],
   "source": []
  },
  {
   "cell_type": "code",
   "execution_count": 79,
   "id": "ffe805d4-61f0-458d-a4f3-60544c388a75",
   "metadata": {
    "scrolled": true
   },
   "outputs": [
    {
     "name": "stdout",
     "output_type": "stream",
     "text": [
      "Anish B L \n",
      "1AY24AI010 \n",
      "AIML 'M' \n",
      "Start time: 09:45:00\n",
      "Duration: 01:35:00\n",
      "End time: 11:20:00\n",
      "Is end after start? True\n"
     ]
    }
   ],
   "source": [
    "                                                            # 10. Project 10\n",
    "\n",
    "print(\"Anish B L \\n1AY24AI010 \\nAIML 'M' \")\n",
    "class Time:\n",
    "    def __init__(self, hour=0, minute=0, second=0):\n",
    "        self.total_seconds = hour * 3600 + minute * 60 + second\n",
    "\n",
    "    def __str__(self):\n",
    "        h, m, s = self.to_hms()\n",
    "        return f\"{h:02}:{m:02}:{s:02}\"\n",
    "\n",
    "    def to_hms(self):\n",
    "        \"\"\"Convert total_seconds into hours, minutes, seconds.\"\"\"\n",
    "        seconds = self.total_seconds\n",
    "        hour = seconds // 3600\n",
    "        seconds %= 3600\n",
    "        minute = seconds // 60\n",
    "        second = seconds % 60\n",
    "        return hour, minute, second\n",
    "\n",
    "    def time_to_int(self):\n",
    "        \"\"\"Return total seconds since midnight.\"\"\"\n",
    "        return self.total_seconds\n",
    "\n",
    "    def increment(self, seconds):\n",
    "        \"\"\"Add seconds to time.\"\"\"\n",
    "        return Time(0, 0, self.total_seconds + seconds)\n",
    "\n",
    "    def is_after(self, other):\n",
    "        return self.total_seconds > other.total_seconds\n",
    "\n",
    "def int_to_time(seconds):\n",
    "    return Time(0, 0, seconds)\n",
    "\n",
    "def main():\n",
    "    start = Time(9, 45, 0)\n",
    "    print(\"Start time:\", start)\n",
    "\n",
    "    duration = Time(1, 35, 0)\n",
    "    print(\"Duration:\", duration)\n",
    "\n",
    "    end = start.increment(duration.time_to_int())\n",
    "    print(\"End time:\", end)\n",
    "\n",
    "    print(\"Is end after start?\", end.is_after(start))\n",
    "\n",
    "if __name__ == '__main__':\n",
    "    main()\n",
    "\n"
   ]
  },
  {
   "cell_type": "code",
   "execution_count": null,
   "id": "198a0df6-2325-4c2a-be94-b03e11951016",
   "metadata": {},
   "outputs": [],
   "source": []
  },
  {
   "cell_type": "code",
   "execution_count": 1,
   "id": "ca48aee8-1b8e-40c1-94cb-114f0d714473",
   "metadata": {},
   "outputs": [
    {
     "name": "stdout",
     "output_type": "stream",
     "text": [
      "Anish B L \n",
      "1AY24AI010 \n",
      "AIML 'M' \n",
      "Kanga: Kangaroo with pouch contents: [Kangaroo with pouch contents: []]\n",
      "Roo: Kangaroo with pouch contents: []\n"
     ]
    }
   ],
   "source": [
    "                                                            # 11. Project 11\n",
    "\n",
    "print(\"Anish B L \\n1AY24AI010 \\nAIML 'M' \")\n",
    "\n",
    "class Kangaroo:\n",
    "    def __init__(self):\n",
    "        # Initialize with a new empty list (to avoid shared list issues!)\n",
    "        self.pouch_contents = []\n",
    "\n",
    "    def put_in_pouch(self, item):\n",
    "        self.pouch_contents.append(item)\n",
    "\n",
    "    def __str__(self):\n",
    "        content_str = ', '.join(str(item) for item in self.pouch_contents)\n",
    "        return f\"Kangaroo with pouch contents: [{content_str}]\"\n",
    "\n",
    "kanga = Kangaroo()\n",
    "roo = Kangaroo()\n",
    "kanga.put_in_pouch(roo)\n",
    "print(\"Kanga:\", kanga)\n",
    "print(\"Roo:\", roo)"
   ]
  },
  {
   "cell_type": "code",
   "execution_count": null,
   "id": "7b601dd4-2405-46cd-95e7-34c2bda7f0c7",
   "metadata": {},
   "outputs": [],
   "source": []
  }
 ],
 "metadata": {
  "kernelspec": {
   "display_name": "Python 3 (ipykernel)",
   "language": "python",
   "name": "python3"
  },
  "language_info": {
   "codemirror_mode": {
    "name": "ipython",
    "version": 3
   },
   "file_extension": ".py",
   "mimetype": "text/x-python",
   "name": "python",
   "nbconvert_exporter": "python",
   "pygments_lexer": "ipython3",
   "version": "3.13.2"
  }
 },
 "nbformat": 4,
 "nbformat_minor": 5
}
